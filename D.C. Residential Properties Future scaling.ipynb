{
 "cells": [
  {
   "cell_type": "markdown",
   "metadata": {},
   "source": [
    "# D.C. Residential Properties Future scaling\n",
    "In this notebook, we will use the D.C. Residential Properties from the kaggle Database to learn how to scale feature data. Scaling means to change the range of values for the data so that features (columns) that have vastly different numerical ranges can be more easily compared. We will look at 2 types of scaling - z-score standardization and Min-max scaling."
   ]
  },
  {
   "cell_type": "code",
   "execution_count": 1,
   "metadata": {},
   "outputs": [],
   "source": [
    "import pandas as pd\n",
    "\n",
    "#preprocessing functions will be used to standardize/normalize data\n",
    "from sklearn import preprocessing\n",
    "from sklearn.preprocessing import StandardScaler\n",
    "from sklearn.preprocessing import MinMaxScaler\n",
    "%matplotlib inline"
   ]
  },
  {
   "cell_type": "code",
   "execution_count": 2,
   "metadata": {},
   "outputs": [
    {
     "name": "stderr",
     "output_type": "stream",
     "text": [
      "C:\\ProgramData\\Anaconda3\\lib\\site-packages\\IPython\\core\\interactiveshell.py:3049: DtypeWarning: Columns (18,19,20,21,22,23,24,33,34,35,37,43,45) have mixed types. Specify dtype option on import or set low_memory=False.\n",
      "  interactivity=interactivity, compiler=compiler, result=result)\n"
     ]
    },
    {
     "data": {
      "text/html": [
       "<div>\n",
       "<style scoped>\n",
       "    .dataframe tbody tr th:only-of-type {\n",
       "        vertical-align: middle;\n",
       "    }\n",
       "\n",
       "    .dataframe tbody tr th {\n",
       "        vertical-align: top;\n",
       "    }\n",
       "\n",
       "    .dataframe thead th {\n",
       "        text-align: right;\n",
       "    }\n",
       "</style>\n",
       "<table border=\"1\" class=\"dataframe\">\n",
       "  <thead>\n",
       "    <tr style=\"text-align: right;\">\n",
       "      <th></th>\n",
       "      <th>Unnamed: 0</th>\n",
       "      <th>BATHRM</th>\n",
       "      <th>HF_BATHRM</th>\n",
       "      <th>HEAT</th>\n",
       "      <th>AC</th>\n",
       "      <th>NUM_UNITS</th>\n",
       "      <th>ROOMS</th>\n",
       "      <th>BEDRM</th>\n",
       "      <th>AYB</th>\n",
       "      <th>YR_RMDL</th>\n",
       "      <th>...</th>\n",
       "      <th>LONGITUDE</th>\n",
       "      <th>ASSESSMENT_NBHD</th>\n",
       "      <th>ASSESSMENT_SUBNBHD</th>\n",
       "      <th>CENSUS_TRACT</th>\n",
       "      <th>CENSUS_BLOCK</th>\n",
       "      <th>WARD</th>\n",
       "      <th>SQUARE</th>\n",
       "      <th>X</th>\n",
       "      <th>Y</th>\n",
       "      <th>QUADRANT</th>\n",
       "    </tr>\n",
       "  </thead>\n",
       "  <tbody>\n",
       "    <tr>\n",
       "      <th>0</th>\n",
       "      <td>0</td>\n",
       "      <td>4</td>\n",
       "      <td>0</td>\n",
       "      <td>Warm Cool</td>\n",
       "      <td>Y</td>\n",
       "      <td>2.0</td>\n",
       "      <td>8</td>\n",
       "      <td>4</td>\n",
       "      <td>1910.0</td>\n",
       "      <td>1988.0</td>\n",
       "      <td>...</td>\n",
       "      <td>-77.040832</td>\n",
       "      <td>Old City 2</td>\n",
       "      <td>040 D Old City 2</td>\n",
       "      <td>4201.0</td>\n",
       "      <td>004201 2006</td>\n",
       "      <td>Ward 2</td>\n",
       "      <td>152</td>\n",
       "      <td>-77.040429</td>\n",
       "      <td>38.914881</td>\n",
       "      <td>NW</td>\n",
       "    </tr>\n",
       "    <tr>\n",
       "      <th>1</th>\n",
       "      <td>1</td>\n",
       "      <td>3</td>\n",
       "      <td>1</td>\n",
       "      <td>Warm Cool</td>\n",
       "      <td>Y</td>\n",
       "      <td>2.0</td>\n",
       "      <td>11</td>\n",
       "      <td>5</td>\n",
       "      <td>1898.0</td>\n",
       "      <td>2007.0</td>\n",
       "      <td>...</td>\n",
       "      <td>-77.040764</td>\n",
       "      <td>Old City 2</td>\n",
       "      <td>040 D Old City 2</td>\n",
       "      <td>4201.0</td>\n",
       "      <td>004201 2006</td>\n",
       "      <td>Ward 2</td>\n",
       "      <td>152</td>\n",
       "      <td>-77.040429</td>\n",
       "      <td>38.914881</td>\n",
       "      <td>NW</td>\n",
       "    </tr>\n",
       "    <tr>\n",
       "      <th>2</th>\n",
       "      <td>2</td>\n",
       "      <td>3</td>\n",
       "      <td>1</td>\n",
       "      <td>Hot Water Rad</td>\n",
       "      <td>Y</td>\n",
       "      <td>2.0</td>\n",
       "      <td>9</td>\n",
       "      <td>5</td>\n",
       "      <td>1910.0</td>\n",
       "      <td>2009.0</td>\n",
       "      <td>...</td>\n",
       "      <td>-77.040678</td>\n",
       "      <td>Old City 2</td>\n",
       "      <td>040 D Old City 2</td>\n",
       "      <td>4201.0</td>\n",
       "      <td>004201 2006</td>\n",
       "      <td>Ward 2</td>\n",
       "      <td>152</td>\n",
       "      <td>-77.040429</td>\n",
       "      <td>38.914881</td>\n",
       "      <td>NW</td>\n",
       "    </tr>\n",
       "    <tr>\n",
       "      <th>3</th>\n",
       "      <td>3</td>\n",
       "      <td>3</td>\n",
       "      <td>1</td>\n",
       "      <td>Hot Water Rad</td>\n",
       "      <td>Y</td>\n",
       "      <td>2.0</td>\n",
       "      <td>8</td>\n",
       "      <td>5</td>\n",
       "      <td>1900.0</td>\n",
       "      <td>2003.0</td>\n",
       "      <td>...</td>\n",
       "      <td>-77.040629</td>\n",
       "      <td>Old City 2</td>\n",
       "      <td>040 D Old City 2</td>\n",
       "      <td>4201.0</td>\n",
       "      <td>004201 2006</td>\n",
       "      <td>Ward 2</td>\n",
       "      <td>152</td>\n",
       "      <td>-77.040429</td>\n",
       "      <td>38.914881</td>\n",
       "      <td>NW</td>\n",
       "    </tr>\n",
       "    <tr>\n",
       "      <th>4</th>\n",
       "      <td>4</td>\n",
       "      <td>2</td>\n",
       "      <td>1</td>\n",
       "      <td>Warm Cool</td>\n",
       "      <td>Y</td>\n",
       "      <td>1.0</td>\n",
       "      <td>11</td>\n",
       "      <td>3</td>\n",
       "      <td>1913.0</td>\n",
       "      <td>2012.0</td>\n",
       "      <td>...</td>\n",
       "      <td>-77.039361</td>\n",
       "      <td>Old City 2</td>\n",
       "      <td>040 D Old City 2</td>\n",
       "      <td>4201.0</td>\n",
       "      <td>004201 2006</td>\n",
       "      <td>Ward 2</td>\n",
       "      <td>152</td>\n",
       "      <td>-77.040429</td>\n",
       "      <td>38.914881</td>\n",
       "      <td>NW</td>\n",
       "    </tr>\n",
       "  </tbody>\n",
       "</table>\n",
       "<p>5 rows × 49 columns</p>\n",
       "</div>"
      ],
      "text/plain": [
       "   Unnamed: 0  BATHRM  HF_BATHRM           HEAT AC  NUM_UNITS  ROOMS  BEDRM  \\\n",
       "0           0       4          0      Warm Cool  Y        2.0      8      4   \n",
       "1           1       3          1      Warm Cool  Y        2.0     11      5   \n",
       "2           2       3          1  Hot Water Rad  Y        2.0      9      5   \n",
       "3           3       3          1  Hot Water Rad  Y        2.0      8      5   \n",
       "4           4       2          1      Warm Cool  Y        1.0     11      3   \n",
       "\n",
       "      AYB  YR_RMDL  ...  LONGITUDE  ASSESSMENT_NBHD ASSESSMENT_SUBNBHD  \\\n",
       "0  1910.0   1988.0  ... -77.040832       Old City 2   040 D Old City 2   \n",
       "1  1898.0   2007.0  ... -77.040764       Old City 2   040 D Old City 2   \n",
       "2  1910.0   2009.0  ... -77.040678       Old City 2   040 D Old City 2   \n",
       "3  1900.0   2003.0  ... -77.040629       Old City 2   040 D Old City 2   \n",
       "4  1913.0   2012.0  ... -77.039361       Old City 2   040 D Old City 2   \n",
       "\n",
       "   CENSUS_TRACT CENSUS_BLOCK    WARD  SQUARE          X          Y QUADRANT  \n",
       "0        4201.0  004201 2006  Ward 2     152 -77.040429  38.914881       NW  \n",
       "1        4201.0  004201 2006  Ward 2     152 -77.040429  38.914881       NW  \n",
       "2        4201.0  004201 2006  Ward 2     152 -77.040429  38.914881       NW  \n",
       "3        4201.0  004201 2006  Ward 2     152 -77.040429  38.914881       NW  \n",
       "4        4201.0  004201 2006  Ward 2     152 -77.040429  38.914881       NW  \n",
       "\n",
       "[5 rows x 49 columns]"
      ]
     },
     "execution_count": 2,
     "metadata": {},
     "output_type": "execute_result"
    }
   ],
   "source": [
    "filepath = \"DC_Properties.csv\" \n",
    "DCP_df = pd.read_csv(filepath)\n",
    "DCP_df.head()\n"
   ]
  },
  {
   "cell_type": "code",
   "execution_count": 3,
   "metadata": {},
   "outputs": [],
   "source": [
    "\n",
    "#rename the pound/hashtag(#) column so it doesn't cause further issues\n",
    "DCP_df.rename(columns={'Unnamed: 0': 'Number'}, inplace =True)"
   ]
  },
  {
   "cell_type": "code",
   "execution_count": 4,
   "metadata": {},
   "outputs": [
    {
     "data": {
      "text/html": [
       "<div>\n",
       "<style scoped>\n",
       "    .dataframe tbody tr th:only-of-type {\n",
       "        vertical-align: middle;\n",
       "    }\n",
       "\n",
       "    .dataframe tbody tr th {\n",
       "        vertical-align: top;\n",
       "    }\n",
       "\n",
       "    .dataframe thead th {\n",
       "        text-align: right;\n",
       "    }\n",
       "</style>\n",
       "<table border=\"1\" class=\"dataframe\">\n",
       "  <thead>\n",
       "    <tr style=\"text-align: right;\">\n",
       "      <th></th>\n",
       "      <th>Number</th>\n",
       "      <th>BATHRM</th>\n",
       "      <th>HF_BATHRM</th>\n",
       "      <th>HEAT</th>\n",
       "      <th>AC</th>\n",
       "      <th>NUM_UNITS</th>\n",
       "      <th>ROOMS</th>\n",
       "      <th>BEDRM</th>\n",
       "      <th>AYB</th>\n",
       "      <th>YR_RMDL</th>\n",
       "      <th>...</th>\n",
       "      <th>LONGITUDE</th>\n",
       "      <th>ASSESSMENT_NBHD</th>\n",
       "      <th>ASSESSMENT_SUBNBHD</th>\n",
       "      <th>CENSUS_TRACT</th>\n",
       "      <th>CENSUS_BLOCK</th>\n",
       "      <th>WARD</th>\n",
       "      <th>SQUARE</th>\n",
       "      <th>X</th>\n",
       "      <th>Y</th>\n",
       "      <th>QUADRANT</th>\n",
       "    </tr>\n",
       "  </thead>\n",
       "  <tbody>\n",
       "    <tr>\n",
       "      <th>0</th>\n",
       "      <td>0</td>\n",
       "      <td>4</td>\n",
       "      <td>0</td>\n",
       "      <td>Warm Cool</td>\n",
       "      <td>Y</td>\n",
       "      <td>2.0</td>\n",
       "      <td>8</td>\n",
       "      <td>4</td>\n",
       "      <td>1910.0</td>\n",
       "      <td>1988.0</td>\n",
       "      <td>...</td>\n",
       "      <td>-77.040832</td>\n",
       "      <td>Old City 2</td>\n",
       "      <td>040 D Old City 2</td>\n",
       "      <td>4201.0</td>\n",
       "      <td>004201 2006</td>\n",
       "      <td>Ward 2</td>\n",
       "      <td>152</td>\n",
       "      <td>-77.040429</td>\n",
       "      <td>38.914881</td>\n",
       "      <td>NW</td>\n",
       "    </tr>\n",
       "    <tr>\n",
       "      <th>1</th>\n",
       "      <td>1</td>\n",
       "      <td>3</td>\n",
       "      <td>1</td>\n",
       "      <td>Warm Cool</td>\n",
       "      <td>Y</td>\n",
       "      <td>2.0</td>\n",
       "      <td>11</td>\n",
       "      <td>5</td>\n",
       "      <td>1898.0</td>\n",
       "      <td>2007.0</td>\n",
       "      <td>...</td>\n",
       "      <td>-77.040764</td>\n",
       "      <td>Old City 2</td>\n",
       "      <td>040 D Old City 2</td>\n",
       "      <td>4201.0</td>\n",
       "      <td>004201 2006</td>\n",
       "      <td>Ward 2</td>\n",
       "      <td>152</td>\n",
       "      <td>-77.040429</td>\n",
       "      <td>38.914881</td>\n",
       "      <td>NW</td>\n",
       "    </tr>\n",
       "    <tr>\n",
       "      <th>2</th>\n",
       "      <td>2</td>\n",
       "      <td>3</td>\n",
       "      <td>1</td>\n",
       "      <td>Hot Water Rad</td>\n",
       "      <td>Y</td>\n",
       "      <td>2.0</td>\n",
       "      <td>9</td>\n",
       "      <td>5</td>\n",
       "      <td>1910.0</td>\n",
       "      <td>2009.0</td>\n",
       "      <td>...</td>\n",
       "      <td>-77.040678</td>\n",
       "      <td>Old City 2</td>\n",
       "      <td>040 D Old City 2</td>\n",
       "      <td>4201.0</td>\n",
       "      <td>004201 2006</td>\n",
       "      <td>Ward 2</td>\n",
       "      <td>152</td>\n",
       "      <td>-77.040429</td>\n",
       "      <td>38.914881</td>\n",
       "      <td>NW</td>\n",
       "    </tr>\n",
       "    <tr>\n",
       "      <th>3</th>\n",
       "      <td>3</td>\n",
       "      <td>3</td>\n",
       "      <td>1</td>\n",
       "      <td>Hot Water Rad</td>\n",
       "      <td>Y</td>\n",
       "      <td>2.0</td>\n",
       "      <td>8</td>\n",
       "      <td>5</td>\n",
       "      <td>1900.0</td>\n",
       "      <td>2003.0</td>\n",
       "      <td>...</td>\n",
       "      <td>-77.040629</td>\n",
       "      <td>Old City 2</td>\n",
       "      <td>040 D Old City 2</td>\n",
       "      <td>4201.0</td>\n",
       "      <td>004201 2006</td>\n",
       "      <td>Ward 2</td>\n",
       "      <td>152</td>\n",
       "      <td>-77.040429</td>\n",
       "      <td>38.914881</td>\n",
       "      <td>NW</td>\n",
       "    </tr>\n",
       "    <tr>\n",
       "      <th>4</th>\n",
       "      <td>4</td>\n",
       "      <td>2</td>\n",
       "      <td>1</td>\n",
       "      <td>Warm Cool</td>\n",
       "      <td>Y</td>\n",
       "      <td>1.0</td>\n",
       "      <td>11</td>\n",
       "      <td>3</td>\n",
       "      <td>1913.0</td>\n",
       "      <td>2012.0</td>\n",
       "      <td>...</td>\n",
       "      <td>-77.039361</td>\n",
       "      <td>Old City 2</td>\n",
       "      <td>040 D Old City 2</td>\n",
       "      <td>4201.0</td>\n",
       "      <td>004201 2006</td>\n",
       "      <td>Ward 2</td>\n",
       "      <td>152</td>\n",
       "      <td>-77.040429</td>\n",
       "      <td>38.914881</td>\n",
       "      <td>NW</td>\n",
       "    </tr>\n",
       "  </tbody>\n",
       "</table>\n",
       "<p>5 rows × 49 columns</p>\n",
       "</div>"
      ],
      "text/plain": [
       "   Number  BATHRM  HF_BATHRM           HEAT AC  NUM_UNITS  ROOMS  BEDRM  \\\n",
       "0       0       4          0      Warm Cool  Y        2.0      8      4   \n",
       "1       1       3          1      Warm Cool  Y        2.0     11      5   \n",
       "2       2       3          1  Hot Water Rad  Y        2.0      9      5   \n",
       "3       3       3          1  Hot Water Rad  Y        2.0      8      5   \n",
       "4       4       2          1      Warm Cool  Y        1.0     11      3   \n",
       "\n",
       "      AYB  YR_RMDL  ...  LONGITUDE  ASSESSMENT_NBHD ASSESSMENT_SUBNBHD  \\\n",
       "0  1910.0   1988.0  ... -77.040832       Old City 2   040 D Old City 2   \n",
       "1  1898.0   2007.0  ... -77.040764       Old City 2   040 D Old City 2   \n",
       "2  1910.0   2009.0  ... -77.040678       Old City 2   040 D Old City 2   \n",
       "3  1900.0   2003.0  ... -77.040629       Old City 2   040 D Old City 2   \n",
       "4  1913.0   2012.0  ... -77.039361       Old City 2   040 D Old City 2   \n",
       "\n",
       "   CENSUS_TRACT CENSUS_BLOCK    WARD  SQUARE          X          Y QUADRANT  \n",
       "0        4201.0  004201 2006  Ward 2     152 -77.040429  38.914881       NW  \n",
       "1        4201.0  004201 2006  Ward 2     152 -77.040429  38.914881       NW  \n",
       "2        4201.0  004201 2006  Ward 2     152 -77.040429  38.914881       NW  \n",
       "3        4201.0  004201 2006  Ward 2     152 -77.040429  38.914881       NW  \n",
       "4        4201.0  004201 2006  Ward 2     152 -77.040429  38.914881       NW  \n",
       "\n",
       "[5 rows x 49 columns]"
      ]
     },
     "execution_count": 4,
     "metadata": {},
     "output_type": "execute_result"
    }
   ],
   "source": [
    "#validate\n",
    "DCP_df.head()"
   ]
  },
  {
   "cell_type": "code",
   "execution_count": 5,
   "metadata": {},
   "outputs": [
    {
     "data": {
      "text/plain": [
       "0         1095000.0\n",
       "1               NaN\n",
       "2         2100000.0\n",
       "3         1602000.0\n",
       "4               NaN\n",
       "5         1950000.0\n",
       "6               NaN\n",
       "7         1050000.0\n",
       "8         1430000.0\n",
       "9               NaN\n",
       "10              NaN\n",
       "11              NaN\n",
       "12              NaN\n",
       "13              NaN\n",
       "14        1325000.0\n",
       "15              NaN\n",
       "16        1240000.0\n",
       "17              NaN\n",
       "18              NaN\n",
       "19         592250.0\n",
       "20          33232.0\n",
       "21              NaN\n",
       "22         907400.0\n",
       "23        1065000.0\n",
       "24        1100000.0\n",
       "25          20000.0\n",
       "26              NaN\n",
       "27         703700.0\n",
       "28              NaN\n",
       "29        1210000.0\n",
       "            ...    \n",
       "158927          NaN\n",
       "158928     632400.0\n",
       "158929     574000.0\n",
       "158930     365000.0\n",
       "158931     405000.0\n",
       "158932     505000.0\n",
       "158933     520000.0\n",
       "158934     499900.0\n",
       "158935     451000.0\n",
       "158936     564900.0\n",
       "158937          NaN\n",
       "158938     660000.0\n",
       "158939     380000.0\n",
       "158940          NaN\n",
       "158941          NaN\n",
       "158942          NaN\n",
       "158943     539000.0\n",
       "158944     908500.0\n",
       "158945     450000.0\n",
       "158946     485355.0\n",
       "158947     320000.0\n",
       "158948     460000.0\n",
       "158949     550000.0\n",
       "158950     635000.0\n",
       "158951     389000.0\n",
       "158952     399900.0\n",
       "158953     416000.0\n",
       "158954     600000.0\n",
       "158955     215100.0\n",
       "158956          NaN\n",
       "Name: PRICE, Length: 158957, dtype: float64"
      ]
     },
     "execution_count": 5,
     "metadata": {},
     "output_type": "execute_result"
    }
   ],
   "source": [
    "DCP_df['PRICE']"
   ]
  },
  {
   "cell_type": "code",
   "execution_count": 6,
   "metadata": {},
   "outputs": [
    {
     "data": {
      "text/plain": [
       "Number                158957\n",
       "BATHRM                158957\n",
       "HF_BATHRM             158957\n",
       "HEAT                  158957\n",
       "AC                    158957\n",
       "NUM_UNITS             106696\n",
       "ROOMS                 158957\n",
       "BEDRM                 158957\n",
       "AYB                   158686\n",
       "YR_RMDL                80928\n",
       "EYB                   158957\n",
       "STORIES               106652\n",
       "SALEDATE              132187\n",
       "PRICE                  98216\n",
       "QUALIFIED             158957\n",
       "SALE_NUM              158957\n",
       "GBA                   106696\n",
       "BLDG_NUM              158957\n",
       "STYLE                 106696\n",
       "STRUCT                106696\n",
       "GRADE                 106696\n",
       "CNDTN                 106696\n",
       "EXTWALL               106696\n",
       "ROOF                  106696\n",
       "INTWALL               106696\n",
       "KITCHENS              106695\n",
       "FIREPLACES            158957\n",
       "USECODE               158957\n",
       "LANDAREA              158957\n",
       "GIS_LAST_MOD_DTTM     158957\n",
       "SOURCE                158957\n",
       "CMPLX_NUM              52261\n",
       "LIVING_GBA             52261\n",
       "FULLADDRESS           106040\n",
       "CITY                  106051\n",
       "STATE                 106051\n",
       "ZIPCODE               158956\n",
       "NATIONALGRID          106051\n",
       "LATITUDE              158956\n",
       "LONGITUDE             158956\n",
       "ASSESSMENT_NBHD       158956\n",
       "ASSESSMENT_SUBNBHD    126406\n",
       "CENSUS_TRACT          158956\n",
       "CENSUS_BLOCK          106051\n",
       "WARD                  158956\n",
       "SQUARE                158957\n",
       "X                     158720\n",
       "Y                     158720\n",
       "QUADRANT              158720\n",
       "dtype: int64"
      ]
     },
     "execution_count": 6,
     "metadata": {},
     "output_type": "execute_result"
    }
   ],
   "source": [
    "#check if any missing values in the data\n",
    "DCP_df.count()"
   ]
  },
  {
   "cell_type": "code",
   "execution_count": 8,
   "metadata": {},
   "outputs": [],
   "source": [
    "\n",
    "DCPP_df= DCP_df.loc[DCP_df['PRICE'].notnull()]"
   ]
  },
  {
   "cell_type": "code",
   "execution_count": 9,
   "metadata": {},
   "outputs": [
    {
     "data": {
      "text/plain": [
       "Number                98216\n",
       "BATHRM                98216\n",
       "HF_BATHRM             98216\n",
       "HEAT                  98216\n",
       "AC                    98216\n",
       "NUM_UNITS             57900\n",
       "ROOMS                 98216\n",
       "BEDRM                 98216\n",
       "AYB                   98104\n",
       "YR_RMDL               57674\n",
       "EYB                   98216\n",
       "STORIES               57867\n",
       "SALEDATE              98215\n",
       "PRICE                 98216\n",
       "QUALIFIED             98216\n",
       "SALE_NUM              98216\n",
       "GBA                   57900\n",
       "BLDG_NUM              98216\n",
       "STYLE                 57900\n",
       "STRUCT                57900\n",
       "GRADE                 57900\n",
       "CNDTN                 57900\n",
       "EXTWALL               57900\n",
       "ROOF                  57900\n",
       "INTWALL               57900\n",
       "KITCHENS              57899\n",
       "FIREPLACES            98216\n",
       "USECODE               98216\n",
       "LANDAREA              98216\n",
       "GIS_LAST_MOD_DTTM     98216\n",
       "SOURCE                98216\n",
       "CMPLX_NUM             40316\n",
       "LIVING_GBA            40316\n",
       "FULLADDRESS           57565\n",
       "CITY                  57569\n",
       "STATE                 57569\n",
       "ZIPCODE               98216\n",
       "NATIONALGRID          57569\n",
       "LATITUDE              98216\n",
       "LONGITUDE             98216\n",
       "ASSESSMENT_NBHD       98216\n",
       "ASSESSMENT_SUBNBHD    77961\n",
       "CENSUS_TRACT          98216\n",
       "CENSUS_BLOCK          57569\n",
       "WARD                  98216\n",
       "SQUARE                98216\n",
       "X                     98115\n",
       "Y                     98115\n",
       "QUADRANT              98115\n",
       "dtype: int64"
      ]
     },
     "execution_count": 9,
     "metadata": {},
     "output_type": "execute_result"
    }
   ],
   "source": [
    "DCPP_df.count()"
   ]
  },
  {
   "cell_type": "code",
   "execution_count": 10,
   "metadata": {},
   "outputs": [
    {
     "data": {
      "text/plain": [
       "0         1095000.0\n",
       "2         2100000.0\n",
       "3         1602000.0\n",
       "5         1950000.0\n",
       "7         1050000.0\n",
       "8         1430000.0\n",
       "14        1325000.0\n",
       "16        1240000.0\n",
       "19         592250.0\n",
       "20          33232.0\n",
       "22         907400.0\n",
       "23        1065000.0\n",
       "24        1100000.0\n",
       "25          20000.0\n",
       "27         703700.0\n",
       "29        1210000.0\n",
       "32         130500.0\n",
       "37         339500.0\n",
       "40        1050000.0\n",
       "41        1550000.0\n",
       "42        1599900.0\n",
       "43        1700000.0\n",
       "44        1700000.0\n",
       "45         450000.0\n",
       "46         846000.0\n",
       "48         348500.0\n",
       "50         849000.0\n",
       "52        1312000.0\n",
       "54         390000.0\n",
       "55         772500.0\n",
       "            ...    \n",
       "158918     839000.0\n",
       "158919     915500.0\n",
       "158920     880000.0\n",
       "158921    1120000.0\n",
       "158924     269000.0\n",
       "158926     385000.0\n",
       "158928     632400.0\n",
       "158929     574000.0\n",
       "158930     365000.0\n",
       "158931     405000.0\n",
       "158932     505000.0\n",
       "158933     520000.0\n",
       "158934     499900.0\n",
       "158935     451000.0\n",
       "158936     564900.0\n",
       "158938     660000.0\n",
       "158939     380000.0\n",
       "158943     539000.0\n",
       "158944     908500.0\n",
       "158945     450000.0\n",
       "158946     485355.0\n",
       "158947     320000.0\n",
       "158948     460000.0\n",
       "158949     550000.0\n",
       "158950     635000.0\n",
       "158951     389000.0\n",
       "158952     399900.0\n",
       "158953     416000.0\n",
       "158954     600000.0\n",
       "158955     215100.0\n",
       "Name: PRICE, Length: 98216, dtype: float64"
      ]
     },
     "execution_count": 10,
     "metadata": {},
     "output_type": "execute_result"
    }
   ],
   "source": [
    "DCPP_df['PRICE']"
   ]
  },
  {
   "cell_type": "code",
   "execution_count": 11,
   "metadata": {},
   "outputs": [
    {
     "data": {
      "text/html": [
       "<div>\n",
       "<style scoped>\n",
       "    .dataframe tbody tr th:only-of-type {\n",
       "        vertical-align: middle;\n",
       "    }\n",
       "\n",
       "    .dataframe tbody tr th {\n",
       "        vertical-align: top;\n",
       "    }\n",
       "\n",
       "    .dataframe thead th {\n",
       "        text-align: right;\n",
       "    }\n",
       "</style>\n",
       "<table border=\"1\" class=\"dataframe\">\n",
       "  <thead>\n",
       "    <tr style=\"text-align: right;\">\n",
       "      <th></th>\n",
       "      <th>Number</th>\n",
       "      <th>BATHRM</th>\n",
       "      <th>HF_BATHRM</th>\n",
       "      <th>NUM_UNITS</th>\n",
       "      <th>ROOMS</th>\n",
       "      <th>BEDRM</th>\n",
       "      <th>AYB</th>\n",
       "      <th>YR_RMDL</th>\n",
       "      <th>EYB</th>\n",
       "      <th>STORIES</th>\n",
       "      <th>...</th>\n",
       "      <th>USECODE</th>\n",
       "      <th>LANDAREA</th>\n",
       "      <th>CMPLX_NUM</th>\n",
       "      <th>LIVING_GBA</th>\n",
       "      <th>ZIPCODE</th>\n",
       "      <th>LATITUDE</th>\n",
       "      <th>LONGITUDE</th>\n",
       "      <th>CENSUS_TRACT</th>\n",
       "      <th>X</th>\n",
       "      <th>Y</th>\n",
       "    </tr>\n",
       "  </thead>\n",
       "  <tbody>\n",
       "    <tr>\n",
       "      <th>count</th>\n",
       "      <td>98216.000000</td>\n",
       "      <td>98216.000000</td>\n",
       "      <td>98216.000000</td>\n",
       "      <td>57900.000000</td>\n",
       "      <td>98216.000000</td>\n",
       "      <td>98216.000000</td>\n",
       "      <td>98104.000000</td>\n",
       "      <td>57674.000000</td>\n",
       "      <td>98216.000000</td>\n",
       "      <td>57867.000000</td>\n",
       "      <td>...</td>\n",
       "      <td>98216.000000</td>\n",
       "      <td>98216.000000</td>\n",
       "      <td>40316.000000</td>\n",
       "      <td>40316.000000</td>\n",
       "      <td>98216.000000</td>\n",
       "      <td>98216.000000</td>\n",
       "      <td>98216.000000</td>\n",
       "      <td>98216.000000</td>\n",
       "      <td>98115.000000</td>\n",
       "      <td>98115.000000</td>\n",
       "    </tr>\n",
       "    <tr>\n",
       "      <th>mean</th>\n",
       "      <td>85324.149802</td>\n",
       "      <td>1.859157</td>\n",
       "      <td>0.444541</td>\n",
       "      <td>1.221071</td>\n",
       "      <td>5.921836</td>\n",
       "      <td>2.606480</td>\n",
       "      <td>1944.903888</td>\n",
       "      <td>2000.666748</td>\n",
       "      <td>1965.759876</td>\n",
       "      <td>2.124667</td>\n",
       "      <td>...</td>\n",
       "      <td>14.613393</td>\n",
       "      <td>2084.296123</td>\n",
       "      <td>2442.438337</td>\n",
       "      <td>882.090907</td>\n",
       "      <td>20012.303525</td>\n",
       "      <td>38.913911</td>\n",
       "      <td>-77.018076</td>\n",
       "      <td>5289.710220</td>\n",
       "      <td>-77.018101</td>\n",
       "      <td>38.913903</td>\n",
       "    </tr>\n",
       "    <tr>\n",
       "      <th>std</th>\n",
       "      <td>47633.750491</td>\n",
       "      <td>0.978321</td>\n",
       "      <td>0.576217</td>\n",
       "      <td>0.623997</td>\n",
       "      <td>2.637816</td>\n",
       "      <td>1.393801</td>\n",
       "      <td>36.254098</td>\n",
       "      <td>16.136807</td>\n",
       "      <td>27.500116</td>\n",
       "      <td>3.948764</td>\n",
       "      <td>...</td>\n",
       "      <td>3.683449</td>\n",
       "      <td>2765.429658</td>\n",
       "      <td>1136.998556</td>\n",
       "      <td>406.013673</td>\n",
       "      <td>16.326982</td>\n",
       "      <td>0.030185</td>\n",
       "      <td>0.039794</td>\n",
       "      <td>3288.288804</td>\n",
       "      <td>0.039786</td>\n",
       "      <td>0.030161</td>\n",
       "    </tr>\n",
       "    <tr>\n",
       "      <th>min</th>\n",
       "      <td>0.000000</td>\n",
       "      <td>0.000000</td>\n",
       "      <td>0.000000</td>\n",
       "      <td>0.000000</td>\n",
       "      <td>0.000000</td>\n",
       "      <td>0.000000</td>\n",
       "      <td>1754.000000</td>\n",
       "      <td>20.000000</td>\n",
       "      <td>1800.000000</td>\n",
       "      <td>0.000000</td>\n",
       "      <td>...</td>\n",
       "      <td>11.000000</td>\n",
       "      <td>0.000000</td>\n",
       "      <td>1001.000000</td>\n",
       "      <td>199.000000</td>\n",
       "      <td>20001.000000</td>\n",
       "      <td>38.819731</td>\n",
       "      <td>-77.113909</td>\n",
       "      <td>100.000000</td>\n",
       "      <td>-77.113135</td>\n",
       "      <td>38.820576</td>\n",
       "    </tr>\n",
       "    <tr>\n",
       "      <th>25%</th>\n",
       "      <td>43005.500000</td>\n",
       "      <td>1.000000</td>\n",
       "      <td>0.000000</td>\n",
       "      <td>1.000000</td>\n",
       "      <td>4.000000</td>\n",
       "      <td>2.000000</td>\n",
       "      <td>1917.000000</td>\n",
       "      <td>1991.000000</td>\n",
       "      <td>1954.000000</td>\n",
       "      <td>2.000000</td>\n",
       "      <td>...</td>\n",
       "      <td>11.000000</td>\n",
       "      <td>482.000000</td>\n",
       "      <td>1586.750000</td>\n",
       "      <td>619.000000</td>\n",
       "      <td>20005.000000</td>\n",
       "      <td>38.895973</td>\n",
       "      <td>-77.042758</td>\n",
       "      <td>2201.000000</td>\n",
       "      <td>-77.042768</td>\n",
       "      <td>38.895753</td>\n",
       "    </tr>\n",
       "    <tr>\n",
       "      <th>50%</th>\n",
       "      <td>89420.500000</td>\n",
       "      <td>2.000000</td>\n",
       "      <td>0.000000</td>\n",
       "      <td>1.000000</td>\n",
       "      <td>6.000000</td>\n",
       "      <td>3.000000</td>\n",
       "      <td>1939.000000</td>\n",
       "      <td>2005.000000</td>\n",
       "      <td>1965.000000</td>\n",
       "      <td>2.000000</td>\n",
       "      <td>...</td>\n",
       "      <td>13.000000</td>\n",
       "      <td>1380.000000</td>\n",
       "      <td>2282.000000</td>\n",
       "      <td>781.000000</td>\n",
       "      <td>20010.000000</td>\n",
       "      <td>38.914207</td>\n",
       "      <td>-77.021489</td>\n",
       "      <td>5002.000000</td>\n",
       "      <td>-77.021262</td>\n",
       "      <td>38.914181</td>\n",
       "    </tr>\n",
       "    <tr>\n",
       "      <th>75%</th>\n",
       "      <td>128346.500000</td>\n",
       "      <td>2.000000</td>\n",
       "      <td>1.000000</td>\n",
       "      <td>1.000000</td>\n",
       "      <td>7.000000</td>\n",
       "      <td>3.000000</td>\n",
       "      <td>1966.000000</td>\n",
       "      <td>2011.000000</td>\n",
       "      <td>1981.000000</td>\n",
       "      <td>2.000000</td>\n",
       "      <td>...</td>\n",
       "      <td>17.000000</td>\n",
       "      <td>2556.000000</td>\n",
       "      <td>2972.000000</td>\n",
       "      <td>1049.000000</td>\n",
       "      <td>20017.000000</td>\n",
       "      <td>38.933797</td>\n",
       "      <td>-76.990601</td>\n",
       "      <td>8100.000000</td>\n",
       "      <td>-76.990849</td>\n",
       "      <td>38.933756</td>\n",
       "    </tr>\n",
       "    <tr>\n",
       "      <th>max</th>\n",
       "      <td>158955.000000</td>\n",
       "      <td>12.000000</td>\n",
       "      <td>11.000000</td>\n",
       "      <td>6.000000</td>\n",
       "      <td>31.000000</td>\n",
       "      <td>20.000000</td>\n",
       "      <td>2018.000000</td>\n",
       "      <td>2019.000000</td>\n",
       "      <td>2018.000000</td>\n",
       "      <td>826.000000</td>\n",
       "      <td>...</td>\n",
       "      <td>117.000000</td>\n",
       "      <td>187301.000000</td>\n",
       "      <td>5621.000000</td>\n",
       "      <td>8553.000000</td>\n",
       "      <td>20392.000000</td>\n",
       "      <td>38.995435</td>\n",
       "      <td>-76.909758</td>\n",
       "      <td>11100.000000</td>\n",
       "      <td>-76.910511</td>\n",
       "      <td>38.993646</td>\n",
       "    </tr>\n",
       "  </tbody>\n",
       "</table>\n",
       "<p>8 rows × 26 columns</p>\n",
       "</div>"
      ],
      "text/plain": [
       "              Number        BATHRM     HF_BATHRM     NUM_UNITS         ROOMS  \\\n",
       "count   98216.000000  98216.000000  98216.000000  57900.000000  98216.000000   \n",
       "mean    85324.149802      1.859157      0.444541      1.221071      5.921836   \n",
       "std     47633.750491      0.978321      0.576217      0.623997      2.637816   \n",
       "min         0.000000      0.000000      0.000000      0.000000      0.000000   \n",
       "25%     43005.500000      1.000000      0.000000      1.000000      4.000000   \n",
       "50%     89420.500000      2.000000      0.000000      1.000000      6.000000   \n",
       "75%    128346.500000      2.000000      1.000000      1.000000      7.000000   \n",
       "max    158955.000000     12.000000     11.000000      6.000000     31.000000   \n",
       "\n",
       "              BEDRM           AYB       YR_RMDL           EYB       STORIES  \\\n",
       "count  98216.000000  98104.000000  57674.000000  98216.000000  57867.000000   \n",
       "mean       2.606480   1944.903888   2000.666748   1965.759876      2.124667   \n",
       "std        1.393801     36.254098     16.136807     27.500116      3.948764   \n",
       "min        0.000000   1754.000000     20.000000   1800.000000      0.000000   \n",
       "25%        2.000000   1917.000000   1991.000000   1954.000000      2.000000   \n",
       "50%        3.000000   1939.000000   2005.000000   1965.000000      2.000000   \n",
       "75%        3.000000   1966.000000   2011.000000   1981.000000      2.000000   \n",
       "max       20.000000   2018.000000   2019.000000   2018.000000    826.000000   \n",
       "\n",
       "       ...       USECODE       LANDAREA     CMPLX_NUM    LIVING_GBA  \\\n",
       "count  ...  98216.000000   98216.000000  40316.000000  40316.000000   \n",
       "mean   ...     14.613393    2084.296123   2442.438337    882.090907   \n",
       "std    ...      3.683449    2765.429658   1136.998556    406.013673   \n",
       "min    ...     11.000000       0.000000   1001.000000    199.000000   \n",
       "25%    ...     11.000000     482.000000   1586.750000    619.000000   \n",
       "50%    ...     13.000000    1380.000000   2282.000000    781.000000   \n",
       "75%    ...     17.000000    2556.000000   2972.000000   1049.000000   \n",
       "max    ...    117.000000  187301.000000   5621.000000   8553.000000   \n",
       "\n",
       "            ZIPCODE      LATITUDE     LONGITUDE  CENSUS_TRACT             X  \\\n",
       "count  98216.000000  98216.000000  98216.000000  98216.000000  98115.000000   \n",
       "mean   20012.303525     38.913911    -77.018076   5289.710220    -77.018101   \n",
       "std       16.326982      0.030185      0.039794   3288.288804      0.039786   \n",
       "min    20001.000000     38.819731    -77.113909    100.000000    -77.113135   \n",
       "25%    20005.000000     38.895973    -77.042758   2201.000000    -77.042768   \n",
       "50%    20010.000000     38.914207    -77.021489   5002.000000    -77.021262   \n",
       "75%    20017.000000     38.933797    -76.990601   8100.000000    -76.990849   \n",
       "max    20392.000000     38.995435    -76.909758  11100.000000    -76.910511   \n",
       "\n",
       "                  Y  \n",
       "count  98115.000000  \n",
       "mean      38.913903  \n",
       "std        0.030161  \n",
       "min       38.820576  \n",
       "25%       38.895753  \n",
       "50%       38.914181  \n",
       "75%       38.933756  \n",
       "max       38.993646  \n",
       "\n",
       "[8 rows x 26 columns]"
      ]
     },
     "execution_count": 11,
     "metadata": {},
     "output_type": "execute_result"
    }
   ],
   "source": [
    "#descriptive statistics\n",
    "DCPP_df.describe()"
   ]
  },
  {
   "cell_type": "code",
   "execution_count": 12,
   "metadata": {},
   "outputs": [
    {
     "data": {
      "text/plain": [
       "array([[<matplotlib.axes._subplots.AxesSubplot object at 0x000001C2E296BDD8>,\n",
       "        <matplotlib.axes._subplots.AxesSubplot object at 0x000001C2E2B18AC8>,\n",
       "        <matplotlib.axes._subplots.AxesSubplot object at 0x000001C2E2B42D30>,\n",
       "        <matplotlib.axes._subplots.AxesSubplot object at 0x000001C2E2B68F98>,\n",
       "        <matplotlib.axes._subplots.AxesSubplot object at 0x000001C2E2B9C208>],\n",
       "       [<matplotlib.axes._subplots.AxesSubplot object at 0x000001C2E2BC3470>,\n",
       "        <matplotlib.axes._subplots.AxesSubplot object at 0x000001C2E2BEB6D8>,\n",
       "        <matplotlib.axes._subplots.AxesSubplot object at 0x000001C2E2C14978>,\n",
       "        <matplotlib.axes._subplots.AxesSubplot object at 0x000001C2E2C149B0>,\n",
       "        <matplotlib.axes._subplots.AxesSubplot object at 0x000001C2E2C66E10>],\n",
       "       [<matplotlib.axes._subplots.AxesSubplot object at 0x000001C2E36670B8>,\n",
       "        <matplotlib.axes._subplots.AxesSubplot object at 0x000001C2E368E4E0>,\n",
       "        <matplotlib.axes._subplots.AxesSubplot object at 0x000001C2E36B6A58>,\n",
       "        <matplotlib.axes._subplots.AxesSubplot object at 0x000001C2E36DEFD0>,\n",
       "        <matplotlib.axes._subplots.AxesSubplot object at 0x000001C2E370D588>],\n",
       "       [<matplotlib.axes._subplots.AxesSubplot object at 0x000001C2E3733B00>,\n",
       "        <matplotlib.axes._subplots.AxesSubplot object at 0x000001C2E37620B8>,\n",
       "        <matplotlib.axes._subplots.AxesSubplot object at 0x000001C2E3789630>,\n",
       "        <matplotlib.axes._subplots.AxesSubplot object at 0x000001C2E37AEBA8>,\n",
       "        <matplotlib.axes._subplots.AxesSubplot object at 0x000001C2E37E2160>],\n",
       "       [<matplotlib.axes._subplots.AxesSubplot object at 0x000001C2E38066D8>,\n",
       "        <matplotlib.axes._subplots.AxesSubplot object at 0x000001C2E382DC50>,\n",
       "        <matplotlib.axes._subplots.AxesSubplot object at 0x000001C2E385E208>,\n",
       "        <matplotlib.axes._subplots.AxesSubplot object at 0x000001C2E3883780>,\n",
       "        <matplotlib.axes._subplots.AxesSubplot object at 0x000001C2E38ABCF8>],\n",
       "       [<matplotlib.axes._subplots.AxesSubplot object at 0x000001C2E38DB2B0>,\n",
       "        <matplotlib.axes._subplots.AxesSubplot object at 0x000001C2E3900828>,\n",
       "        <matplotlib.axes._subplots.AxesSubplot object at 0x000001C2E3928DA0>,\n",
       "        <matplotlib.axes._subplots.AxesSubplot object at 0x000001C2E3958358>,\n",
       "        <matplotlib.axes._subplots.AxesSubplot object at 0x000001C2E397E8D0>]],\n",
       "      dtype=object)"
      ]
     },
     "execution_count": 12,
     "metadata": {},
     "output_type": "execute_result"
    },
    {
     "data": {
      "image/png": "[encoded data removed]",
      "text/plain": [
       "<Figure size 864x864 with 30 Axes>"
      ]
     },
     "metadata": {
      "needs_background": "light"
     },
     "output_type": "display_data"
    }
   ],
   "source": [
    "#plot the frequency count for each column\n",
    "DCPP_df.hist(figsize=(12,12))"
   ]
  },
  {
   "cell_type": "code",
   "execution_count": 13,
   "metadata": {},
   "outputs": [
    {
     "data": {
      "text/plain": [
       "array([[<matplotlib.axes._subplots.AxesSubplot object at 0x000001C2E296B9E8>,\n",
       "        <matplotlib.axes._subplots.AxesSubplot object at 0x000001C2E9ECACF8>,\n",
       "        <matplotlib.axes._subplots.AxesSubplot object at 0x000001C2EA6B2710>,\n",
       "        <matplotlib.axes._subplots.AxesSubplot object at 0x000001C2EA6C9B38>,\n",
       "        <matplotlib.axes._subplots.AxesSubplot object at 0x000001C2EA6F1F98>],\n",
       "       [<matplotlib.axes._subplots.AxesSubplot object at 0x000001C2EA722438>,\n",
       "        <matplotlib.axes._subplots.AxesSubplot object at 0x000001C2EA748898>,\n",
       "        <matplotlib.axes._subplots.AxesSubplot object at 0x000001C2EA773D30>,\n",
       "        <matplotlib.axes._subplots.AxesSubplot object at 0x000001C2EA773D68>,\n",
       "        <matplotlib.axes._subplots.AxesSubplot object at 0x000001C2EA7CD5F8>],\n",
       "       [<matplotlib.axes._subplots.AxesSubplot object at 0x000001C2EA8F5A58>,\n",
       "        <matplotlib.axes._subplots.AxesSubplot object at 0x000001C2EA91DEB8>,\n",
       "        <matplotlib.axes._subplots.AxesSubplot object at 0x000001C2EA94E358>,\n",
       "        <matplotlib.axes._subplots.AxesSubplot object at 0x000001C2EA9767B8>,\n",
       "        <matplotlib.axes._subplots.AxesSubplot object at 0x000001C2EA99DC18>],\n",
       "       [<matplotlib.axes._subplots.AxesSubplot object at 0x000001C2EA9D00B8>,\n",
       "        <matplotlib.axes._subplots.AxesSubplot object at 0x000001C2EA9F9518>,\n",
       "        <matplotlib.axes._subplots.AxesSubplot object at 0x000001C2EAB1F978>,\n",
       "        <matplotlib.axes._subplots.AxesSubplot object at 0x000001C2EAB4ADD8>,\n",
       "        <matplotlib.axes._subplots.AxesSubplot object at 0x000001C2EAB7B278>],\n",
       "       [<matplotlib.axes._subplots.AxesSubplot object at 0x000001C2EABA06D8>,\n",
       "        <matplotlib.axes._subplots.AxesSubplot object at 0x000001C2EABC9B38>,\n",
       "        <matplotlib.axes._subplots.AxesSubplot object at 0x000001C2EABF2F98>,\n",
       "        <matplotlib.axes._subplots.AxesSubplot object at 0x000001C2EAC24438>,\n",
       "        <matplotlib.axes._subplots.AxesSubplot object at 0x000001C2EAC4B898>],\n",
       "       [<matplotlib.axes._subplots.AxesSubplot object at 0x000001C2EAD83CF8>,\n",
       "        <matplotlib.axes._subplots.AxesSubplot object at 0x000001C2EADB4198>,\n",
       "        <matplotlib.axes._subplots.AxesSubplot object at 0x000001C2EADDC710>,\n",
       "        <matplotlib.axes._subplots.AxesSubplot object at 0x000001C2EAE05C88>,\n",
       "        <matplotlib.axes._subplots.AxesSubplot object at 0x000001C2EAE36240>]],\n",
       "      dtype=object)"
      ]
     },
     "execution_count": 13,
     "metadata": {},
     "output_type": "execute_result"
    },
    {
     "data": {
      "image/png": "[encoded data removed]",
      "text/plain": [
       "<Figure size 864x864 with 30 Axes>"
      ]
     },
     "metadata": {
      "needs_background": "light"
     },
     "output_type": "display_data"
    }
   ],
   "source": [
    "#plot frequency count data but using the same scale (minimum and maximum value out of all columns)\n",
    "DCPP_df.hist(figsize=(12,12), sharex=True)"
   ]
  },
  {
   "cell_type": "markdown",
   "metadata": {},
   "source": [
    "# Scaling will help to find any drastic effects that occur in the data when comparing multiple features. If we try to see any effects when putting the features on the same scale in the default data, as in the above charts, smaller values cannot be seen.\n",
    "\n",
    "Z-score Standardization\n",
    "Z-score standardization is the process of converting the data to have a mean of 0 and a standard deviation of 1. The z-score is calculcated by subtracting the mean for a feature (column) by each data point value and dividing by the standard deviation.\n",
    "\n",
    "z=(value−mean)/stddev"
   ]
  },
  {
   "cell_type": "code",
   "execution_count": 14,
   "metadata": {},
   "outputs": [
    {
     "data": {
      "text/plain": [
       "0    1095000.0\n",
       "2    2100000.0\n",
       "3    1602000.0\n",
       "5    1950000.0\n",
       "7    1050000.0\n",
       "Name: PRICE, dtype: float64"
      ]
     },
     "execution_count": 14,
     "metadata": {},
     "output_type": "execute_result"
    }
   ],
   "source": [
    "#first 5 rows of the 'Glucose' column\n",
    "DCPP_df['PRICE'].head()"
   ]
  },
  {
   "cell_type": "code",
   "execution_count": 15,
   "metadata": {},
   "outputs": [],
   "source": [
    "#Method 1: manual calculation of z-scores for 'PRICE' column\n",
    "\n",
    "#mean for the column\n",
    "mean = DCPP_df['PRICE'].mean()\n",
    "\n",
    "#standard deviation of the column\n",
    "std = DCPP_df['PRICE'].std()\n",
    "\n",
    "#each value in column minus the mean and then divide by the standard deviation\n",
    "PRICE_z_manual = (DCPP_df['PRICE'] - mean)/std"
   ]
  },
  {
   "cell_type": "code",
   "execution_count": 16,
   "metadata": {},
   "outputs": [
    {
     "data": {
      "text/plain": [
       "(931351.5949336156, 7061324.955612032)"
      ]
     },
     "execution_count": 16,
     "metadata": {},
     "output_type": "execute_result"
    }
   ],
   "source": [
    "#values for mean and standard deviation of 'PRICE column'\n",
    "mean, std"
   ]
  },
  {
   "cell_type": "code",
   "execution_count": 17,
   "metadata": {},
   "outputs": [
    {
     "data": {
      "text/plain": [
       "0    0.023175\n",
       "2    0.165500\n",
       "3    0.094975\n",
       "5    0.144257\n",
       "7    0.016803\n",
       "Name: PRICE, dtype: float64"
      ]
     },
     "execution_count": 17,
     "metadata": {},
     "output_type": "execute_result"
    }
   ],
   "source": [
    "#first 5 rows of z-score standardized 'PRICE' column\n",
    "PRICE_z_manual.head()"
   ]
  },
  {
   "cell_type": "code",
   "execution_count": 18,
   "metadata": {},
   "outputs": [
    {
     "data": {
      "text/plain": [
       "(5.337655258732351e-16, 1.0000000000000109)"
      ]
     },
     "execution_count": 18,
     "metadata": {},
     "output_type": "execute_result"
    }
   ],
   "source": [
    "#mean and standard deviation of z-score standardized 'PRICE' column\n",
    "PRICE_z_manual.mean(), PRICE_z_manual.std()"
   ]
  },
  {
   "cell_type": "code",
   "execution_count": 19,
   "metadata": {},
   "outputs": [],
   "source": [
    "#Method 2: use scikit-learn to calculate z-scores\n",
    "\n",
    "#set StandardScale function to a variable (easier to type)\n",
    "#scaler will use z-score formula on the column\n",
    "scaler = StandardScaler()\n",
    "\n",
    "#fit_transform calculates the mean and std, and replaces any missing values w/ mean if needed\n",
    "#'Glucose' is in double set of square brackets in order to make it a dataframe\n",
    "PRICE_zscore = scaler.fit_transform(DCPP_df[['PRICE']])"
   ]
  },
  {
   "cell_type": "code",
   "execution_count": 20,
   "metadata": {},
   "outputs": [
    {
     "data": {
      "text/plain": [
       "(-4.630074029551846e-18, 1.0)"
      ]
     },
     "execution_count": 20,
     "metadata": {},
     "output_type": "execute_result"
    }
   ],
   "source": [
    "#mean and standard deviation of z-score standardized 'PRICE' column\n",
    "PRICE_zscore.mean(), PRICE_zscore.std()"
   ]
  },
  {
   "cell_type": "code",
   "execution_count": 21,
   "metadata": {},
   "outputs": [],
   "source": [
    "#because fit_transform made an array, we have to change it back into a Series type (pandas dataframe column)\n",
    "PRICE_z_col = pd.Series(PRICE_zscore.reshape(-1))"
   ]
  },
  {
   "cell_type": "code",
   "execution_count": 22,
   "metadata": {},
   "outputs": [
    {
     "data": {
      "text/plain": [
       "0    0.023175\n",
       "1    0.165501\n",
       "2    0.094975\n",
       "3    0.144258\n",
       "4    0.016803\n",
       "dtype: float64"
      ]
     },
     "execution_count": 22,
     "metadata": {},
     "output_type": "execute_result"
    }
   ],
   "source": [
    "#first 5 rows of z-score standardized price column\n",
    "PRICE_z_col.head()"
   ]
  },
  {
   "cell_type": "code",
   "execution_count": 23,
   "metadata": {},
   "outputs": [
    {
     "data": {
      "text/plain": [
       "<matplotlib.axes._subplots.AxesSubplot at 0x1c2eb6fdef0>"
      ]
     },
     "execution_count": 23,
     "metadata": {},
     "output_type": "execute_result"
    },
    {
     "data": {
      "image/png": "[encoded data removed]",
      "text/plain": [
       "<Figure size 432x288 with 1 Axes>"
      ]
     },
     "metadata": {
      "needs_background": "light"
     },
     "output_type": "display_data"
    }
   ],
   "source": [
    "#BEFORE: frequency count plot of 'price' column\n",
    "DCPP_df['PRICE'].hist()"
   ]
  },
  {
   "cell_type": "code",
   "execution_count": 24,
   "metadata": {},
   "outputs": [
    {
     "data": {
      "text/plain": [
       "<matplotlib.axes._subplots.AxesSubplot at 0x1c2eb3de978>"
      ]
     },
     "execution_count": 24,
     "metadata": {},
     "output_type": "execute_result"
    },
    {
     "data": {
      "image/png": "[encoded data removed]",
      "text/plain": [
       "<Figure size 432x288 with 1 Axes>"
      ]
     },
     "metadata": {
      "needs_background": "light"
     },
     "output_type": "display_data"
    }
   ],
   "source": [
    "#AFTER: frequency count plot of 'price' column (z-score standardization)\n",
    "#range is much smaller\n",
    "PRICE_z_col.hist()"
   ]
  },
  {
   "cell_type": "markdown",
   "metadata": {},
   "source": [
    "# Min-max Scaling\n",
    "Max-min scaling transforms the data into a range from 0 to 1. The new minimum value of the column will always be 0 and the new maximum value of the column will always be 1. The values in between are calculated by using the original value and subtracting the column's minimum value, then dividing by the maximum value of the column minus the minimum value.\n",
    "\n",
    "m=(value−min)/max−min\n"
   ]
  },
  {
   "cell_type": "code",
   "execution_count": 25,
   "metadata": {},
   "outputs": [],
   "source": [
    "#MinMaxScaler function will calculate the formula\n",
    "minmax_sc = MinMaxScaler()"
   ]
  },
  {
   "cell_type": "code",
   "execution_count": 26,
   "metadata": {},
   "outputs": [],
   "source": [
    "#use MinMaxScaler function and fit_transform function on the 'price' column\n",
    "PRICE_minmax = minmax_sc.fit_transform(DCPP_df[['PRICE']])"
   ]
  },
  {
   "cell_type": "code",
   "execution_count": 27,
   "metadata": {},
   "outputs": [
    {
     "data": {
      "text/plain": [
       "(0.006777030046710401, 0.0513819049810315)"
      ]
     },
     "execution_count": 27,
     "metadata": {},
     "output_type": "execute_result"
    }
   ],
   "source": [
    "#mean and standard deviation of Min-Max 'Glucose' column\n",
    "PRICE_minmax.mean(), PRICE_minmax.std()"
   ]
  },
  {
   "cell_type": "code",
   "execution_count": 28,
   "metadata": {},
   "outputs": [
    {
     "data": {
      "text/plain": [
       "0    0.007968\n",
       "1    0.015281\n",
       "2    0.011657\n",
       "3    0.014189\n",
       "4    0.007640\n",
       "dtype: float64"
      ]
     },
     "execution_count": 28,
     "metadata": {},
     "output_type": "execute_result"
    }
   ],
   "source": [
    "#convert array into a dataframe column\n",
    "#look at first 5 rows of min-max values\n",
    "PRICE_mm_col = pd.Series(PRICE_minmax.reshape(-1))\n",
    "PRICE_mm_col.head()"
   ]
  },
  {
   "cell_type": "code",
   "execution_count": 29,
   "metadata": {},
   "outputs": [
    {
     "data": {
      "text/plain": [
       "(0.0, 0.9999999999999999)"
      ]
     },
     "execution_count": 29,
     "metadata": {},
     "output_type": "execute_result"
    }
   ],
   "source": [
    "#verify the range is between 0 and 1\n",
    "PRICE_mm_col.min(), PRICE_mm_col.max()"
   ]
  },
  {
   "cell_type": "code",
   "execution_count": 30,
   "metadata": {},
   "outputs": [
    {
     "data": {
      "text/plain": [
       "<matplotlib.axes._subplots.AxesSubplot at 0x1c2eb418d68>"
      ]
     },
     "execution_count": 30,
     "metadata": {},
     "output_type": "execute_result"
    },
    {
     "data": {
      "image/png": "[encoded data removed]",
      "text/plain": [
       "<Figure size 432x288 with 1 Axes>"
      ]
     },
     "metadata": {
      "needs_background": "light"
     },
     "output_type": "display_data"
    }
   ],
   "source": [
    "PRICE_mm_col.hist()"
   ]
  },
  {
   "cell_type": "markdown",
   "metadata": {},
   "source": [
    "# Tips for Predictive Models\n",
    "Z-score standardization is most useful for regression models, such as linear regression and logistic regression\n",
    "Min-Max scaling is more relevant for algorithms that calculate distances between data points, such as K-Nearest Neighbors and K-Means Clustering"
   ]
  },
  {
   "cell_type": "code",
   "execution_count": null,
   "metadata": {},
   "outputs": [],
   "source": []
  }
 ],
 "metadata": {
  "kernelspec": {
   "display_name": "Python 3",
   "language": "python",
   "name": "python3"
  },
  "language_info": {
   "codemirror_mode": {
    "name": "ipython",
    "version": 3
   },
   "file_extension": ".py",
   "mimetype": "text/x-python",
   "name": "python",
   "nbconvert_exporter": "python",
   "pygments_lexer": "ipython3",
   "version": "3.6.8"
  }
 },
 "nbformat": 4,
 "nbformat_minor": 2
}
